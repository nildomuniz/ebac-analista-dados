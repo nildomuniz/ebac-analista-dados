{
  "nbformat": 4,
  "nbformat_minor": 0,
  "metadata": {
    "colab": {
      "provenance": []
    },
    "kernelspec": {
      "name": "python3",
      "display_name": "Python 3"
    }
  },
  "cells": [
    {
      "cell_type": "markdown",
      "metadata": {
        "id": "KJqp9AANOCtf"
      },
      "source": [
        "<img src=\"https://raw.githubusercontent.com/andre-marcos-perez/ebac-course-utils/main/media/logo/newebac_logo_black_half.png\" alt=\"ebac-logo\">\n",
        "\n",
        "---\n",
        "\n",
        "# **Módulo** | Análise de Dados: Controle de Versão I\n",
        "Caderno de **Exercícios**<br> \n",
        "Professor [André Perez](https://www.linkedin.com/in/andremarcosperez/)\n",
        "\n",
        "---"
      ]
    },
    {
      "cell_type": "markdown",
      "metadata": {
        "id": "d9jDtUbDOE1-"
      },
      "source": [
        "# **Tópicos**\n",
        "\n",
        "<ol type=\"1\">\n",
        "  <li>Introdução ao Git;</li>\n",
        "  <li>Introdução ao GitHub;</li>\n",
        "  <li>Criando um repositório no GitHub.</li>\n",
        "</ol>"
      ]
    },
    {
      "cell_type": "markdown",
      "metadata": {
        "id": "SmoHgt-lwkpD"
      },
      "source": [
        "---"
      ]
    },
    {
      "cell_type": "markdown",
      "metadata": {
        "id": "GABI6OW8OfQ2"
      },
      "source": [
        "# **Exercícios**"
      ]
    },
    {
      "cell_type": "markdown",
      "metadata": {
        "id": "GWgNoJN8DHyY"
      },
      "source": [
        "## 1\\. Git"
      ]
    },
    {
      "cell_type": "markdown",
      "metadata": {
        "id": "fLGLUjR_bS36"
      },
      "source": [
        "O [git](https://git-scm.com/) é um software de controle de versão distribuído de **arquivos**. Nos exercícios desta aula, voce pode utiliza-lo tanto na máquina virtual do Google Colab quanto na sua máquina local."
      ]
    },
    {
      "cell_type": "markdown",
      "metadata": {
        "id": "b38h7VzCazcD"
      },
      "source": [
        "### **1.1. Google Colab** "
      ]
    },
    {
      "cell_type": "markdown",
      "metadata": {
        "id": "8IqWwI7KSCf7"
      },
      "source": [
        "Nas máquinas virtuais do Google Colab o `git` já vem instalado."
      ]
    },
    {
      "cell_type": "code",
      "metadata": {
        "id": "6W4RyDfJ6DzI",
        "colab": {
          "base_uri": "https://localhost:8080/"
        },
        "outputId": "dc1284f3-9f94-476c-ea2e-f40e7f0d563c"
      },
      "source": [
        "!git --version"
      ],
      "execution_count": 11,
      "outputs": [
        {
          "output_type": "stream",
          "name": "stdout",
          "text": [
            "git version 2.25.1\n"
          ]
        }
      ]
    },
    {
      "cell_type": "markdown",
      "metadata": {
        "id": "C5hnW9-Oa5cI"
      },
      "source": [
        "### **1.2. Máquina Local** "
      ]
    },
    {
      "cell_type": "markdown",
      "metadata": {
        "id": "OUWoDjwNbAqm"
      },
      "source": [
        "Em muitos sistemas opeacionais, o `git` já vem pré instalado, utilize o comando abaixo na linha de comando do seu computador (`terminal` no Linux e MacOS ou `cmd` no Windows) para verificar a instalação."
      ]
    },
    {
      "cell_type": "markdown",
      "metadata": {
        "id": "3OMQLHU8eaBH"
      },
      "source": [
        "```shell\n",
        "git --version\n",
        "```"
      ]
    },
    {
      "cell_type": "markdown",
      "metadata": {
        "id": "kwrM3OmheGlJ"
      },
      "source": [
        "Se o `git` não estiver instalado na sua maquina, voce pode encontrar instruções de instalação para Linux/MacOS/Windows neste [link](https://www.atlassian.com/br/git/tutorials/install-git). Após seguir as instruções, você pode verificar a instalação com o mesmo comando."
      ]
    },
    {
      "cell_type": "markdown",
      "metadata": {
        "id": "WlIh0A04fCuV"
      },
      "source": [
        "```shell\n",
        "git --version\n",
        "```"
      ]
    },
    {
      "cell_type": "markdown",
      "metadata": {
        "id": "waxn4B2UDHyl"
      },
      "source": [
        "---"
      ]
    },
    {
      "cell_type": "markdown",
      "metadata": {
        "id": "finLQoyyGVmk"
      },
      "source": [
        "## 2\\. GitHub"
      ]
    },
    {
      "cell_type": "markdown",
      "metadata": {
        "id": "74xkkESnbVbU"
      },
      "source": [
        "O GitHub é uma ferramenta online de controle de versão distribuído de **arquivos**."
      ]
    },
    {
      "cell_type": "markdown",
      "metadata": {
        "id": "gqI0kEa0ba0N"
      },
      "source": [
        "### **2.1. Criando a uma conta** "
      ]
    },
    {
      "cell_type": "markdown",
      "metadata": {
        "id": "a7kDE5Peba0P"
      },
      "source": [
        "Para criar a uma conta na ferramenta, basta acessar este [link](https://github.com), clicar em *sign up* e seguir as instruções."
      ]
    },
    {
      "cell_type": "markdown",
      "metadata": {
        "id": "9qAr4d94ba0Q"
      },
      "source": [
        "### **2.2. Criando um projeto** "
      ]
    },
    {
      "cell_type": "markdown",
      "metadata": {
        "id": "MCveeK5bba0R"
      },
      "source": [
        "Nesta etapa vamos configurar o `git` na máquina virtual do Google Colab ou na sua máquina local, as instruções são as mesmas. Para tanto, replique as atividades expostas na aula 3 deste módulo. "
      ]
    },
    {
      "cell_type": "markdown",
      "metadata": {
        "id": "jr3IIt4SwhTA"
      },
      "source": [
        " > Conta"
      ]
    },
    {
      "cell_type": "markdown",
      "metadata": {
        "id": "7oYCV4YhmpxE"
      },
      "source": [
        " - Criar uma conta no GitHub."
      ]
    },
    {
      "cell_type": "markdown",
      "metadata": {
        "id": "xO8Vn51royvj"
      },
      "source": [
        " - Criar um *personal access token*."
      ]
    },
    {
      "cell_type": "markdown",
      "metadata": {
        "id": "ZU0uaRebm7oY"
      },
      "source": [
        " - Configurar a conexão entre o `git` local com o `git` remoto (GitHub):"
      ]
    },
    {
      "cell_type": "code",
      "metadata": {
        "id": "2KZ8VecqnUzx"
      },
      "source": [
        "import os\n",
        "\n",
        "username = \"nildomuniz\" # insira o seu nome de usuário do git\n",
        "os.environ[\"GITHUB_USER\"] = username\n",
        "\n",
        "!git config --global user.name \"${GITHUB_USER}\""
      ],
      "execution_count": 12,
      "outputs": []
    },
    {
      "cell_type": "code",
      "metadata": {
        "id": "tpRJcz0hoBtK",
        "colab": {
          "base_uri": "https://localhost:8080/"
        },
        "outputId": "c84dcf59-a17f-4afa-b29e-aaa242eaaf36"
      },
      "source": [
        "import os\n",
        "from getpass import getpass\n",
        "\n",
        "usermail = getpass()\n",
        "os.environ[\"GITHUB_MAIL\"] = usermail\n",
        "\n",
        "!git config --global user.email \"${GITHUB_MAIL}\""
      ],
      "execution_count": 13,
      "outputs": [
        {
          "name": "stdout",
          "output_type": "stream",
          "text": [
            "··········\n"
          ]
        }
      ]
    },
    {
      "cell_type": "code",
      "metadata": {
        "id": "YeUSaO14veHV",
        "colab": {
          "base_uri": "https://localhost:8080/"
        },
        "outputId": "ee23198c-c387-4a46-b1bc-292c37c102b6"
      },
      "source": [
        "import os\n",
        "from getpass import getpass\n",
        "\n",
        "usertoken = getpass()\n",
        "os.environ[\"GITHUB_TOKEN\"] = usertoken"
      ],
      "execution_count": 14,
      "outputs": [
        {
          "name": "stdout",
          "output_type": "stream",
          "text": [
            "··········\n"
          ]
        }
      ]
    },
    {
      "cell_type": "markdown",
      "metadata": {
        "id": "U7DbyCuawlEV"
      },
      "source": [
        " > Projeto"
      ]
    },
    {
      "cell_type": "markdown",
      "metadata": {
        "id": "P5J3RdYRra26"
      },
      "source": [
        " - Criar o projeto **remoto**."
      ]
    },
    {
      "cell_type": "markdown",
      "metadata": {
        "id": "IxLfmGQnmfL8"
      },
      "source": [
        " - Fazer o download do projeto **remoto** na máquina **local**, não se esqueça de alterar o link com as informações de usuário e senha."
      ]
    },
    {
      "cell_type": "code",
      "metadata": {
        "id": "sp_iiZY7NpTS",
        "colab": {
          "base_uri": "https://localhost:8080/"
        },
        "outputId": "941463cb-bf0b-4857-de16-9f6586aac307"
      },
      "source": [
        "!git clone https://{GITHUB_TOKEN}@github.com/nildomuniz/da-ebac.git # insira o link do seu repositório remoto"
      ],
      "execution_count": 15,
      "outputs": [
        {
          "output_type": "stream",
          "name": "stdout",
          "text": [
            "Cloning into 'da-ebac'...\n",
            "remote: Enumerating objects: 5, done.\u001b[K\n",
            "remote: Counting objects: 100% (5/5), done.\u001b[K\n",
            "remote: Compressing objects: 100% (4/4), done.\u001b[K\n",
            "remote: Total 5 (delta 0), reused 0 (delta 0), pack-reused 0\u001b[K\n",
            "Unpacking objects: 100% (5/5), 2.25 KiB | 2.25 MiB/s, done.\n"
          ]
        }
      ]
    },
    {
      "cell_type": "code",
      "metadata": {
        "id": "sVw8rgrEsSl7",
        "colab": {
          "base_uri": "https://localhost:8080/"
        },
        "outputId": "9c87b507-b21f-471b-9e02-3ab4e9d5433f"
      },
      "source": [
        "%cd /content/da-ebac/"
      ],
      "execution_count": 16,
      "outputs": [
        {
          "output_type": "stream",
          "name": "stdout",
          "text": [
            "/content/da-ebac\n"
          ]
        }
      ]
    },
    {
      "cell_type": "markdown",
      "metadata": {
        "id": "Hhwqi1lgo98u"
      },
      "source": [
        " - Criar um arquivo **hello.py** e salvar as aterações no repositório **local**."
      ]
    },
    {
      "cell_type": "code",
      "metadata": {
        "id": "PX29_aXZpbv4",
        "colab": {
          "base_uri": "https://localhost:8080/"
        },
        "outputId": "d9e76318-486a-49bc-9af4-0d55e2214647"
      },
      "source": [
        "!touch hello.py\n",
        "!git status"
      ],
      "execution_count": 17,
      "outputs": [
        {
          "output_type": "stream",
          "name": "stdout",
          "text": [
            "On branch main\n",
            "Your branch is ahead of 'origin/main' by 1 commit.\n",
            "  (use \"git push\" to publish your local commits)\n",
            "\n",
            "Untracked files:\n",
            "  (use \"git add <file>...\" to include in what will be committed)\n",
            "\t\u001b[31mda-ebac/\u001b[m\n",
            "\n",
            "nothing added to commit but untracked files present (use \"git add\" to track)\n"
          ]
        }
      ]
    },
    {
      "cell_type": "code",
      "metadata": {
        "id": "llYrydvipu23",
        "colab": {
          "base_uri": "https://localhost:8080/"
        },
        "outputId": "b6e41eb3-2a65-4021-8711-7910457a3710"
      },
      "source": [
        "!git add hello.py\n",
        "!git status"
      ],
      "execution_count": 18,
      "outputs": [
        {
          "output_type": "stream",
          "name": "stdout",
          "text": [
            "On branch main\n",
            "Your branch is ahead of 'origin/main' by 1 commit.\n",
            "  (use \"git push\" to publish your local commits)\n",
            "\n",
            "Untracked files:\n",
            "  (use \"git add <file>...\" to include in what will be committed)\n",
            "\t\u001b[31mda-ebac/\u001b[m\n",
            "\n",
            "nothing added to commit but untracked files present (use \"git add\" to track)\n"
          ]
        }
      ]
    },
    {
      "cell_type": "code",
      "metadata": {
        "id": "QIhx_FE_pyC-",
        "colab": {
          "base_uri": "https://localhost:8080/"
        },
        "outputId": "64c3a7ef-e687-4eb4-f1c8-33b319ceac4e"
      },
      "source": [
        "!git commit -m \"arquivo hello.py criado\"\n",
        "!git status"
      ],
      "execution_count": 19,
      "outputs": [
        {
          "output_type": "stream",
          "name": "stdout",
          "text": [
            "On branch main\n",
            "Your branch is ahead of 'origin/main' by 1 commit.\n",
            "  (use \"git push\" to publish your local commits)\n",
            "\n",
            "Untracked files:\n",
            "  (use \"git add <file>...\" to include in what will be committed)\n",
            "\t\u001b[31mda-ebac/\u001b[m\n",
            "\n",
            "nothing added to commit but untracked files present (use \"git add\" to track)\n",
            "On branch main\n",
            "Your branch is ahead of 'origin/main' by 1 commit.\n",
            "  (use \"git push\" to publish your local commits)\n",
            "\n",
            "Untracked files:\n",
            "  (use \"git add <file>...\" to include in what will be committed)\n",
            "\t\u001b[31mda-ebac/\u001b[m\n",
            "\n",
            "nothing added to commit but untracked files present (use \"git add\" to track)\n"
          ]
        }
      ]
    },
    {
      "cell_type": "markdown",
      "metadata": {
        "id": "BdkYI4jKpOIK"
      },
      "source": [
        " - Enviar as alterações para o repositório **remoto**."
      ]
    },
    {
      "cell_type": "code",
      "metadata": {
        "id": "Y9Gw7ptPpUlb",
        "colab": {
          "base_uri": "https://localhost:8080/"
        },
        "outputId": "c1ace6a5-f0b3-491a-d40b-bebf26b8a721"
      },
      "source": [
        "!git push origin main\n",
        "!git status"
      ],
      "execution_count": 20,
      "outputs": [
        {
          "output_type": "stream",
          "name": "stdout",
          "text": [
            "fatal: could not read Password for 'https://{GITHUB_TOKEN}@github.com': No such device or address\n",
            "On branch main\n",
            "Your branch is ahead of 'origin/main' by 1 commit.\n",
            "  (use \"git push\" to publish your local commits)\n",
            "\n",
            "Untracked files:\n",
            "  (use \"git add <file>...\" to include in what will be committed)\n",
            "\t\u001b[31mda-ebac/\u001b[m\n",
            "\n",
            "nothing added to commit but untracked files present (use \"git add\" to track)\n"
          ]
        }
      ]
    },
    {
      "cell_type": "markdown",
      "metadata": {
        "id": "LdakWXS7jEWG"
      },
      "source": [
        " - Confira o arquivo no seu repositório."
      ]
    },
    {
      "cell_type": "markdown",
      "metadata": {
        "id": "As3enQc2GVm1"
      },
      "source": [
        "---"
      ]
    },
    {
      "cell_type": "code",
      "source": [],
      "metadata": {
        "id": "cZOu8YQQt3Xl"
      },
      "execution_count": 20,
      "outputs": []
    }
  ]
}