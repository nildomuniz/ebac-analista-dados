{
  "nbformat": 4,
  "nbformat_minor": 0,
  "metadata": {
    "colab": {
      "provenance": [],
      "collapsed_sections": [],
      "toc_visible": true
    },
    "kernelspec": {
      "name": "python3",
      "display_name": "Python 3"
    }
  },
  "cells": [
    {
      "cell_type": "markdown",
      "metadata": {
        "id": "KJqp9AANOCtf"
      },
      "source": [
        "<img src=\"https://raw.githubusercontent.com/andre-marcos-perez/ebac-course-utils/main/media/logo/newebac_logo_black_half.png\" alt=\"ebac-logo\">\n",
        "\n",
        "---\n",
        "\n",
        "# **Módulo** | Python: Estruturas de Dados\n",
        "Caderno de **Exercícios**<br> \n",
        "Professor [André Perez](https://www.linkedin.com/in/andremarcosperez/)\n",
        "\n",
        "---"
      ]
    },
    {
      "cell_type": "markdown",
      "metadata": {
        "id": "d9jDtUbDOE1-"
      },
      "source": [
        "# **Tópicos**\n",
        "\n",
        "<ol type=\"1\">\n",
        "  <li>Listas;</li>\n",
        "  <li>Conjuntos;</li>\n",
        "  <li>Dicionários.</li>\n",
        "</ol>"
      ]
    },
    {
      "cell_type": "markdown",
      "metadata": {
        "id": "SmoHgt-lwkpD"
      },
      "source": [
        "---"
      ]
    },
    {
      "cell_type": "markdown",
      "metadata": {
        "id": "GABI6OW8OfQ2"
      },
      "source": [
        "# **Exercícios**"
      ]
    },
    {
      "cell_type": "markdown",
      "metadata": {
        "id": "muD1vxozykSC"
      },
      "source": [
        "## 1\\. Listas"
      ]
    },
    {
      "cell_type": "markdown",
      "metadata": {
        "id": "ahrFfCuBxJKs"
      },
      "source": [
        "Criei uma lista chamada `filmes` com o nome dos 10 primeiros filmes mais bem avaliados no site no [IMDB](https://www.imdb.com/chart/top/). Imprima o resultado."
      ]
    },
    {
      "cell_type": "code",
      "metadata": {
        "id": "OgL6Hv3bzOHI",
        "colab": {
          "base_uri": "https://localhost:8080/"
        },
        "outputId": "9f57aba3-c37a-4c25-b8bd-509d68d9b5ac"
      },
      "source": [
        "filmes = ['Um Sonho de Liberdade', 'O Poderoso Chefão', 'Batman: O Cavaleito das Trevas', 'O Poderoso Chefão II', '12 Homens e uma Sentença', 'A Lista de Schindler', 'O Senhor dos Anéis: O Retorno do Rei', 'Pulp Fiction: Tempo de Violência', 'O Senhor dos Anéis: A Sociedade do Anel', 'Três Homens em Conflito']\n",
        "print(filmes)\n",
        "print(type(filmes))"
      ],
      "execution_count": null,
      "outputs": [
        {
          "output_type": "stream",
          "name": "stdout",
          "text": [
            "['Um Sonho de Liberdade', 'O Poderoso Chefão', 'Batman: O Cavaleito das Trevas', 'O Poderoso Chefão II', '12 Homens e uma Sentença', 'A Lista de Schindler', 'O Senhor dos Anéis: O Retorno do Rei', 'Pulp Fiction: Tempo de Violência', 'O Senhor dos Anéis: A Sociedade do Anel', 'Três Homens em Conflito']\n",
            "<class 'list'>\n"
          ]
        }
      ]
    },
    {
      "cell_type": "markdown",
      "metadata": {
        "id": "KI9zQRT2xa7m"
      },
      "source": [
        "Simule a movimentação do *ranking*. Utilize os métodos `insert` e `pop` para trocar a posição do primeiro e do segundo filme da lista. Imprima o resultado.\n",
        "\n"
      ]
    },
    {
      "cell_type": "code",
      "source": [
        "print(filmes)\n",
        "filmes.insert(1, 'Matrix')\n",
        "print(filmes)"
      ],
      "metadata": {
        "colab": {
          "base_uri": "https://localhost:8080/"
        },
        "id": "Fb6BTgG2lDZn",
        "outputId": "fcbee0b7-0fbb-4400-ef77-544f175ab5a5"
      },
      "execution_count": null,
      "outputs": [
        {
          "output_type": "stream",
          "name": "stdout",
          "text": [
            "['Um Sonho de Liberdade', 'O Poderoso Chefão', 'Batman: O Cavaleito das Trevas', 'O Poderoso Chefão II', '12 Homens e uma Sentença', 'A Lista de Schindler', 'O Senhor dos Anéis: O Retorno do Rei', 'Pulp Fiction: Tempo de Violência', 'O Senhor dos Anéis: A Sociedade do Anel', 'Três Homens em Conflito']\n",
            "['Um Sonho de Liberdade', 'Matrix', 'O Poderoso Chefão', 'Batman: O Cavaleito das Trevas', 'O Poderoso Chefão II', '12 Homens e uma Sentença', 'A Lista de Schindler', 'O Senhor dos Anéis: O Retorno do Rei', 'Pulp Fiction: Tempo de Violência', 'O Senhor dos Anéis: A Sociedade do Anel', 'Três Homens em Conflito']\n"
          ]
        }
      ]
    },
    {
      "cell_type": "code",
      "source": [
        "print(filmes)\n",
        "segundo_filmes = filmes.pop(2)\n",
        "print(filmes)\n",
        "print(segundo_filmes)"
      ],
      "metadata": {
        "colab": {
          "base_uri": "https://localhost:8080/"
        },
        "id": "2X1iSTHFl_xW",
        "outputId": "5327ebca-b234-403c-eec4-de82f40a66d2"
      },
      "execution_count": null,
      "outputs": [
        {
          "output_type": "stream",
          "name": "stdout",
          "text": [
            "['Um Sonho de Liberdade', 'Matrix', 'O Poderoso Chefão', 'Batman: O Cavaleito das Trevas', 'O Poderoso Chefão II', '12 Homens e uma Sentença', 'A Lista de Schindler', 'O Senhor dos Anéis: O Retorno do Rei', 'Pulp Fiction: Tempo de Violência', 'O Senhor dos Anéis: A Sociedade do Anel', 'Três Homens em Conflito']\n",
            "['Um Sonho de Liberdade', 'Matrix', 'Batman: O Cavaleito das Trevas', 'O Poderoso Chefão II', '12 Homens e uma Sentença', 'A Lista de Schindler', 'O Senhor dos Anéis: O Retorno do Rei', 'Pulp Fiction: Tempo de Violência', 'O Senhor dos Anéis: A Sociedade do Anel', 'Três Homens em Conflito']\n",
            "O Poderoso Chefão\n"
          ]
        }
      ]
    },
    {
      "cell_type": "markdown",
      "metadata": {
        "id": "lxa5L6uF0ZJE"
      },
      "source": [
        "## 2\\. Conjuntos"
      ]
    },
    {
      "cell_type": "markdown",
      "metadata": {
        "id": "9JahS2Kj0d5u"
      },
      "source": [
        "Aconteceu um erro no seu *ranking*. Simule a duplicação dos três últimos filmes da lista. Imprima o resultado."
      ]
    },
    {
      "cell_type": "code",
      "source": [
        "filmes_rank_10_dia_1 = ['Um Sonho de Liberdade', 'O Poderoso Chefão', 'Batman: O Cavaleito das Trevas', 'O Poderoso Chefão II', '12 Homens e uma Sentença', 'A Lista de Schindler', 'O Senhor dos Anéis: O Retorno do Rei', 'Pulp Fiction: Tempo de Violência', 'O Senhor dos Anéis: A Sociedade do Anel', 'Três Homens em Conflito']\n",
        "filmes_rank_10_dia_2 = ['Pulp Fiction: Tempo de Violência', 'O Senhor dos Anéis: A Sociedade do Anel', 'Três Homens em Conflito']\n",
        "\n",
        "filmes_rank_semana = filmes_rank_10_dia_1 + filmes_rank_10_dia_2\n",
        "print(filmes_rank_semana)"
      ],
      "metadata": {
        "colab": {
          "base_uri": "https://localhost:8080/"
        },
        "id": "tWJVwNkxBjBj",
        "outputId": "1e603c40-bde8-41ee-a01b-2d47df59a8f6"
      },
      "execution_count": null,
      "outputs": [
        {
          "output_type": "stream",
          "name": "stdout",
          "text": [
            "['Um Sonho de Liberdade', 'O Poderoso Chefão', 'Batman: O Cavaleito das Trevas', 'O Poderoso Chefão II', '12 Homens e uma Sentença', 'A Lista de Schindler', 'O Senhor dos Anéis: O Retorno do Rei', 'Pulp Fiction: Tempo de Violência', 'O Senhor dos Anéis: A Sociedade do Anel', 'Três Homens em Conflito', 'Pulp Fiction: Tempo de Violência', 'O Senhor dos Anéis: A Sociedade do Anel', 'Três Homens em Conflito']\n"
          ]
        }
      ]
    },
    {
      "cell_type": "markdown",
      "metadata": {
        "id": "suxTfCJB6ZiX"
      },
      "source": [
        "Utiliza a conversão `set` e `list` para remover os valores duplicados. Imprima o resultado. "
      ]
    },
    {
      "cell_type": "code",
      "source": [
        "print(filmes_rank_semana)\n",
        "print(len(filmes_rank_semana))"
      ],
      "metadata": {
        "colab": {
          "base_uri": "https://localhost:8080/"
        },
        "id": "nOb3PJiKELfs",
        "outputId": "5d0edb19-5979-420d-fb26-3dfac1da64a6"
      },
      "execution_count": null,
      "outputs": [
        {
          "output_type": "stream",
          "name": "stdout",
          "text": [
            "['Um Sonho de Liberdade', 'O Poderoso Chefão', 'Batman: O Cavaleito das Trevas', 'O Poderoso Chefão II', '12 Homens e uma Sentença', 'A Lista de Schindler', 'O Senhor dos Anéis: O Retorno do Rei', 'Pulp Fiction: Tempo de Violência', 'O Senhor dos Anéis: A Sociedade do Anel', 'Três Homens em Conflito', 'Pulp Fiction: Tempo de Violência', 'O Senhor dos Anéis: A Sociedade do Anel', 'Três Homens em Conflito']\n",
            "13\n"
          ]
        }
      ]
    },
    {
      "cell_type": "code",
      "metadata": {
        "id": "ZvUGN-0n6joM",
        "colab": {
          "base_uri": "https://localhost:8080/"
        },
        "outputId": "8b68e0bd-6761-4e77-bb91-81e8e698bd21"
      },
      "source": [
        "print(set(filmes_rank_semana))\n",
        "print(type(set(filmes_rank_semana)))"
      ],
      "execution_count": null,
      "outputs": [
        {
          "output_type": "stream",
          "name": "stdout",
          "text": [
            "{'O Senhor dos Anéis: A Sociedade do Anel', 'Um Sonho de Liberdade', 'O Poderoso Chefão', '12 Homens e uma Sentença', 'Três Homens em Conflito', 'O Senhor dos Anéis: O Retorno do Rei', 'A Lista de Schindler', 'O Poderoso Chefão II', 'Batman: O Cavaleito das Trevas', 'Pulp Fiction: Tempo de Violência'}\n",
            "<class 'set'>\n"
          ]
        }
      ]
    },
    {
      "cell_type": "code",
      "source": [
        "print(set(filmes_rank_semana))\n",
        "print(len(set(filmes_rank_semana)))"
      ],
      "metadata": {
        "colab": {
          "base_uri": "https://localhost:8080/"
        },
        "id": "DDLtv7yCHGYR",
        "outputId": "deb658d0-6d4e-4029-b604-83ff908148da"
      },
      "execution_count": null,
      "outputs": [
        {
          "output_type": "stream",
          "name": "stdout",
          "text": [
            "{'O Senhor dos Anéis: A Sociedade do Anel', 'Um Sonho de Liberdade', 'O Poderoso Chefão', '12 Homens e uma Sentença', 'Três Homens em Conflito', 'O Senhor dos Anéis: O Retorno do Rei', 'A Lista de Schindler', 'O Poderoso Chefão II', 'Batman: O Cavaleito das Trevas', 'Pulp Fiction: Tempo de Violência'}\n",
            "10\n"
          ]
        }
      ]
    },
    {
      "cell_type": "markdown",
      "metadata": {
        "id": "ShkK35eQ6pAM"
      },
      "source": [
        "---"
      ]
    },
    {
      "cell_type": "markdown",
      "metadata": {
        "id": "EL_FzmxL6rTv"
      },
      "source": [
        "## 3\\. Dicionários"
      ]
    },
    {
      "cell_type": "markdown",
      "metadata": {
        "id": "i8l0gFqRCpfT"
      },
      "source": [
        "Repita os exercícios da parte 1 (listas). Os elementos da lista `filmes` devem ser dicionários no seguinte formato: `{'nome': <nome-do-filme>, 'ano': <ano do filme>}, 'sinopse': <sinopse do filme>}`. "
      ]
    },
    {
      "cell_type": "code",
      "source": [
        "filmes = ['Um Sonho de Liberdade', 'O Poderoso Chefão', 'Batman: O Cavaleito das Trevas', 'O Poderoso Chefão II', '12 Homens e uma Sentença', 'A Lista de Schindler', 'O Senhor dos Anéis: O Retorno do Rei', 'Pulp Fiction: Tempo de Violência', 'O Senhor dos Anéis: A Sociedade do Anel', 'Três Homens em Conflito']\n",
        "print(filmes)"
      ],
      "metadata": {
        "colab": {
          "base_uri": "https://localhost:8080/"
        },
        "id": "0zaHN3VuOd_L",
        "outputId": "8fd106cc-dbed-4e11-fd67-010637d38e0b"
      },
      "execution_count": null,
      "outputs": [
        {
          "output_type": "stream",
          "name": "stdout",
          "text": [
            "['Um Sonho de Liberdade', 'O Poderoso Chefão', 'Batman: O Cavaleito das Trevas', 'O Poderoso Chefão II', '12 Homens e uma Sentença', 'A Lista de Schindler', 'O Senhor dos Anéis: O Retorno do Rei', 'Pulp Fiction: Tempo de Violência', 'O Senhor dos Anéis: A Sociedade do Anel', 'Três Homens em Conflito']\n"
          ]
        }
      ]
    },
    {
      "cell_type": "code",
      "source": [
        "filmes = [{'nome':'Um Sonho de Liberdade', 'ano': '1994', 'sinopse': 'Dois homens presos se reúnem ao longo de vários anos.'},\n",
        "          {'nome': 'O Poderoso Cgefçao', 'ano': '1972', 'sinopse': 'O patriarca idoso de uma dinastia do crime organizado transfere o controle de seu império clandestino para seu filho relutante.'},      \n",
        "          {'nome': 'Batman: O Cavaleiro das Trevas', 'ano': '2008', 'sinopse': 'Quando a ameaça conhecida como O Coringa surge de seu passado, causa estragos e caos nas pessoas de Gotham. O Cavaleiro das Trevas deve aceitar um dos maiores testes para combater a injustiça.'},\n",
        "          {'nome': 'O Poderoso Chefão II', 'ano': '1974', 'sinopse': 'Em 1950, Michael Corleone, agora à frente da família, tenta expandir o negócio do crime a Las Vegas, Los Angeles e Cuba.'},\n",
        "          {'nome': '12 Homens e uma Sentença', 'ano': '1957', 'sinopse': 'Um jurado que se aposenta tenta evitar um erro judicial forçando seus colegas a reconsiderarem as evidências.'},\n",
        "          {'nome': 'A Lista de Schindler', 'ano': '1993', 'sinopse': 'Depois de testemunhar a perseguição dos judaicos na Polônia ocupada pelos alemães durante a Segunda Guerra Mundial, o industrial Oskar Schindler se começa a preocupar com sua força de trabalho judaica.'},\n",
        "          {'nome': 'O Senhor dos Anéis: O Retorno do Rei', 'ano': '2003', 'sinopse': 'Gandalf e Aragorn lideram o Mundo dos Homens contra o exército de Sauron para desviar o olhar de Frodo e Sam quando eles se aproximam á Montanha da Perdição com o Um Anel.'},\n",
        "          {'nome': 'Pulp Fiction: Tempo de Violência', 'ano': '1994', 'sinopse': 'As vidas de dois assassinos da máfia, um boxeador, um gângster e sua esposa, e um par de bandidos se entrelaçam em quatro histórias de violência e redenção.'},\n",
        "          {'nome': 'O Senhor dos Anéis: A Sociedade do Anel', 'ano': '2001', 'sinopse': 'Um manso hobbit do Condado e oito companheiros partem em uma jornada para destruir o poderoso Um Anel e salvar a Terra-média das Trevas.'},\n",
        "          {'nome': 'Três Homens em Conflito', 'ano': '1966', 'sinopse': 'Um impostor se junta com dois homens para encontrar fortuna num remoto cemitério.'}]\n",
        "print(filmes  )"
      ],
      "metadata": {
        "colab": {
          "base_uri": "https://localhost:8080/"
        },
        "id": "TpNhhGtYGk-4",
        "outputId": "f8880c17-cdc6-455c-9044-20b0d486edba"
      },
      "execution_count": 15,
      "outputs": [
        {
          "output_type": "stream",
          "name": "stdout",
          "text": [
            "[{'nome': 'Um Sonho de Liberdade', 'ano': '1994', 'sinopse': 'Dois homens presos se reúnem ao longo de vários anos.'}, {'nome': 'O Poderoso Cgefçao', 'ano': '1972', 'sinopse': 'O patriarca idoso de uma dinastia do crime organizado transfere o controle de seu império clandestino para seu filho relutante.'}, {'nome': 'Batman: O Cavaleiro das Trevas', 'ano': '2008', 'sinopse': 'Quando a ameaça conhecida como O Coringa surge de seu passado, causa estragos e caos nas pessoas de Gotham. O Cavaleiro das Trevas deve aceitar um dos maiores testes para combater a injustiça.'}, {'nome': 'O Poderoso Chefão II', 'ano': '1974', 'sinopse': 'Em 1950, Michael Corleone, agora à frente da família, tenta expandir o negócio do crime a Las Vegas, Los Angeles e Cuba.'}, {'nome': '12 Homens e uma Sentença', 'ano': '1957', 'sinopse': 'Um jurado que se aposenta tenta evitar um erro judicial forçando seus colegas a reconsiderarem as evidências.'}, {'nome': 'A Lista de Schindler', 'ano': '1993', 'sinopse': 'Depois de testemunhar a perseguição dos judaicos na Polônia ocupada pelos alemães durante a Segunda Guerra Mundial, o industrial Oskar Schindler se começa a preocupar com sua força de trabalho judaica.'}, {'nome': 'O Senhor dos Anéis: O Retorno do Rei', 'ano': '2003', 'sinopse': 'Gandalf e Aragorn lideram o Mundo dos Homens contra o exército de Sauron para desviar o olhar de Frodo e Sam quando eles se aproximam á Montanha da Perdição com o Um Anel.'}, {'nome': 'Pulp Fiction: Tempo de Violência', 'ano': '1994', 'sinopse': 'As vidas de dois assassinos da máfia, um boxeador, um gângster e sua esposa, e um par de bandidos se entrelaçam em quatro histórias de violência e redenção.'}, {'nome': 'O Senhor dos Anéis: A Sociedade do Anel', 'ano': '2001', 'sinopse': 'Um manso hobbit do Condado e oito companheiros partem em uma jornada para destruir o poderoso Um Anel e salvar a Terra-média das Trevas.'}, {'nome': 'Três Homens em Conflito', 'ano': '1966', 'sinopse': 'Um impostor se junta com dois homens para encontrar fortuna num remoto cemitério.'}]\n"
          ]
        }
      ]
    },
    {
      "cell_type": "code",
      "metadata": {
        "id": "tu6MSFwGDnHv",
        "colab": {
          "base_uri": "https://localhost:8080/"
        },
        "outputId": "b7060499-a016-4cb7-f34d-c629a64b1ad6"
      },
      "source": [
        "filmes = dict(\n",
        "    nome='Um Sonho de Liberdade',\n",
        "    ano='1994',\n",
        "    sinopse='Dois homens presos se reúnem ao longo de vários anos, ...',\n",
        ")\n",
        "print(filmes)"
      ],
      "execution_count": 1,
      "outputs": [
        {
          "output_type": "stream",
          "name": "stdout",
          "text": [
            "{'nome': 'Um Sonho de Liberdade', 'ano': '1994', 'sinopse': 'Dois homens presos se reúnem ao longo de vários anos, ...'}\n"
          ]
        }
      ]
    },
    {
      "cell_type": "markdown",
      "source": [],
      "metadata": {
        "id": "iPIVnNqaJI9I"
      }
    },
    {
      "cell_type": "markdown",
      "source": [
        "#4. Meus Testes\n"
      ],
      "metadata": {
        "id": "nqHTFof9Tgb8"
      }
    },
    {
      "cell_type": "code",
      "source": [
        "variavel_teste = [5,7,6,8,10]\n",
        "print(variavel_teste)\n",
        "\n",
        "#quantidade de elementos na lista\n",
        "print(len(variavel_teste))\n",
        "\n",
        "#.append():adiciona um item ao final da lista\n",
        "variavel_teste.append('oi_final')\n",
        "print(variavel_teste)\n",
        "\n",
        "#.insert():insere um item na lista na posição indicada\n",
        "variavel_teste.insert(2,'oi_posicao_2')\n",
        "print(variavel_teste)\n",
        "\n",
        "#del: remove um item da lista baseado na posição indicada\n",
        "del variavel_teste[2]\n",
        "print(variavel_teste)\n",
        "\n",
        "#remove(): remove um item baseado no seu valor e não na sua posição\n",
        "variavel_teste.remove('oi_final')\n",
        "print(variavel_teste)\n",
        "\n",
        "#.pop(): remove da lista_compras o último item, mas não o exclui"
      ],
      "metadata": {
        "colab": {
          "base_uri": "https://localhost:8080/"
        },
        "id": "l6cjHmdmTmTX",
        "outputId": "7336196b-626d-4ba1-a7b2-fb280633e8a1"
      },
      "execution_count": null,
      "outputs": [
        {
          "output_type": "stream",
          "name": "stdout",
          "text": [
            "[5, 7, 6, 8, 10]\n",
            "5\n",
            "[5, 7, 6, 8, 10, 'oi_final']\n",
            "[5, 7, 'oi_posicao_2', 6, 8, 10, 'oi_final']\n",
            "[5, 7, 6, 8, 10, 'oi_final']\n",
            "[5, 7, 6, 8, 10]\n"
          ]
        }
      ]
    },
    {
      "cell_type": "code",
      "source": [
        "#Os Dicionários em Python servem para que você possa criar listas no Python, só que com um rótulo.\n",
        "#Esse rótulo nada mas é que do que um identificador, ou seja.\n",
        "#Você pode escrever em uma lista os nomes de várias pessoas com identificador e nela colocar, \n",
        "#por exemplo, a idade de cada uma delas.\n",
        "\n"
      ],
      "metadata": {
        "id": "Ve1IWXOVffZK"
      },
      "execution_count": null,
      "outputs": []
    }
  ]
}