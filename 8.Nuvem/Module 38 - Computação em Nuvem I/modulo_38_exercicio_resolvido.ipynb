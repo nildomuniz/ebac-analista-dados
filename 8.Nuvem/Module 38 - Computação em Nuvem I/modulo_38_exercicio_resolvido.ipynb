{
  "nbformat": 4,
  "nbformat_minor": 0,
  "metadata": {
    "colab": {
      "provenance": [],
      "collapsed_sections": [
        "JG1HL69-j0lH",
        "s_Dj-BgThLg5",
        "jeEzLmuRhDQy",
        "PoTeRwlihDQ0",
        "QpMlxqRyhDQ1",
        "ov7Fg-mWhDQ1",
        "DvHPNAoPgdiG",
        "3SMp5GwjglJm",
        "e3ieQfXTgqd3",
        "L0pKWNr5fm9z",
        "DMhCpOU_gupo",
        "l3h0WP2Eg2ht",
        "rWG4Vk6XaWtf",
        "wkibgd8rB8y3",
        "IjPaJtnYE0MI",
        "2lpj1rszc--m",
        "HnWg_mhLd5gC",
        "RhqmXiHQo-is",
        "SvT9xrajLL7J",
        "91eSyA2cLLqv"
      ]
    },
    "kernelspec": {
      "name": "python3",
      "display_name": "Python 3"
    }
  },
  "cells": [
    {
      "cell_type": "markdown",
      "metadata": {
        "id": "KJqp9AANOCtf"
      },
      "source": [
        "<img src=\"https://raw.githubusercontent.com/andre-marcos-perez/ebac-course-utils/main/media/logo/newebac_logo_black_half.png\" alt=\"ebac-logo\">\n",
        "\n",
        "---\n",
        "\n",
        "# **Módulo** | Computação em Nuvem I\n",
        "Caderno de **Exercícios**<br> \n",
        "Professor [André Perez](https://www.linkedin.com/in/andremarcosperez/)\n",
        "\n",
        "---"
      ]
    },
    {
      "cell_type": "markdown",
      "metadata": {
        "id": "d9jDtUbDOE1-"
      },
      "source": [
        "# **Tópicos**\n",
        "\n",
        "<ol type=\"1\">\n",
        "  <li>Amazon Web Services;</li>\n",
        "  <li>AWS IAM;</li>\n",
        "  <li>AWS S3;</li>\n",
        "  <li>AWS Athena.</li>\n",
        "</ol>"
      ]
    },
    {
      "cell_type": "markdown",
      "metadata": {
        "id": "SmoHgt-lwkpD"
      },
      "source": [
        "---"
      ]
    },
    {
      "cell_type": "markdown",
      "metadata": {
        "id": "GABI6OW8OfQ2"
      },
      "source": [
        "# **Exercícios**"
      ]
    },
    {
      "cell_type": "markdown",
      "metadata": {
        "id": "ne7Ay0HKaGSv"
      },
      "source": [
        "## 1\\. Amazon Web Services"
      ]
    },
    {
      "cell_type": "markdown",
      "metadata": {
        "id": "OQxOVktrzG9I"
      },
      "source": [
        " 1. Crie uma conta na [AWS](https://portal.aws.amazon.com/);\n",
        " 1. Acesse a sua conta e selecione a região mais próxima da sua residência."
      ]
    },
    {
      "cell_type": "markdown",
      "metadata": {
        "id": "EvJTE2FpaGeU"
      },
      "source": [
        "## 2\\. AWS S3"
      ]
    },
    {
      "cell_type": "markdown",
      "metadata": {
        "id": "ISYXZbomlb1x"
      },
      "source": [
        "Replique as atividades do item 3.3 em sua conta.\n"
      ]
    },
    {
      "cell_type": "markdown",
      "source": [
        "> **Carregando bibliotecas:**"
      ],
      "metadata": {
        "id": "4PBQ411lNOXT"
      }
    },
    {
      "cell_type": "code",
      "source": [
        "import pandas as pd\n",
        "import seaborn as sns"
      ],
      "metadata": {
        "id": "py6lvJ7PNSbJ"
      },
      "execution_count": 2,
      "outputs": []
    },
    {
      "cell_type": "markdown",
      "source": [
        "> **Coletando os dados:**"
      ],
      "metadata": {
        "id": "KocFbCcwNVop"
      }
    },
    {
      "cell_type": "code",
      "source": [
        "iris = sns.load_dataset('iris')\n",
        "iris.head()"
      ],
      "metadata": {
        "colab": {
          "base_uri": "https://localhost:8080/",
          "height": 206
        },
        "id": "Cm4YULh3NZxy",
        "outputId": "e6ef9202-1093-4b9b-b32d-fd8e0fc5a277"
      },
      "execution_count": 4,
      "outputs": [
        {
          "output_type": "execute_result",
          "data": {
            "text/plain": [
              "   sepal_length  sepal_width  petal_length  petal_width species\n",
              "0           5.1          3.5           1.4          0.2  setosa\n",
              "1           4.9          3.0           1.4          0.2  setosa\n",
              "2           4.7          3.2           1.3          0.2  setosa\n",
              "3           4.6          3.1           1.5          0.2  setosa\n",
              "4           5.0          3.6           1.4          0.2  setosa"
            ],
            "text/html": [
              "\n",
              "  <div id=\"df-e3a947dd-5fd7-44fb-a731-f0d84826881b\">\n",
              "    <div class=\"colab-df-container\">\n",
              "      <div>\n",
              "<style scoped>\n",
              "    .dataframe tbody tr th:only-of-type {\n",
              "        vertical-align: middle;\n",
              "    }\n",
              "\n",
              "    .dataframe tbody tr th {\n",
              "        vertical-align: top;\n",
              "    }\n",
              "\n",
              "    .dataframe thead th {\n",
              "        text-align: right;\n",
              "    }\n",
              "</style>\n",
              "<table border=\"1\" class=\"dataframe\">\n",
              "  <thead>\n",
              "    <tr style=\"text-align: right;\">\n",
              "      <th></th>\n",
              "      <th>sepal_length</th>\n",
              "      <th>sepal_width</th>\n",
              "      <th>petal_length</th>\n",
              "      <th>petal_width</th>\n",
              "      <th>species</th>\n",
              "    </tr>\n",
              "  </thead>\n",
              "  <tbody>\n",
              "    <tr>\n",
              "      <th>0</th>\n",
              "      <td>5.1</td>\n",
              "      <td>3.5</td>\n",
              "      <td>1.4</td>\n",
              "      <td>0.2</td>\n",
              "      <td>setosa</td>\n",
              "    </tr>\n",
              "    <tr>\n",
              "      <th>1</th>\n",
              "      <td>4.9</td>\n",
              "      <td>3.0</td>\n",
              "      <td>1.4</td>\n",
              "      <td>0.2</td>\n",
              "      <td>setosa</td>\n",
              "    </tr>\n",
              "    <tr>\n",
              "      <th>2</th>\n",
              "      <td>4.7</td>\n",
              "      <td>3.2</td>\n",
              "      <td>1.3</td>\n",
              "      <td>0.2</td>\n",
              "      <td>setosa</td>\n",
              "    </tr>\n",
              "    <tr>\n",
              "      <th>3</th>\n",
              "      <td>4.6</td>\n",
              "      <td>3.1</td>\n",
              "      <td>1.5</td>\n",
              "      <td>0.2</td>\n",
              "      <td>setosa</td>\n",
              "    </tr>\n",
              "    <tr>\n",
              "      <th>4</th>\n",
              "      <td>5.0</td>\n",
              "      <td>3.6</td>\n",
              "      <td>1.4</td>\n",
              "      <td>0.2</td>\n",
              "      <td>setosa</td>\n",
              "    </tr>\n",
              "  </tbody>\n",
              "</table>\n",
              "</div>\n",
              "      <button class=\"colab-df-convert\" onclick=\"convertToInteractive('df-e3a947dd-5fd7-44fb-a731-f0d84826881b')\"\n",
              "              title=\"Convert this dataframe to an interactive table.\"\n",
              "              style=\"display:none;\">\n",
              "        \n",
              "  <svg xmlns=\"http://www.w3.org/2000/svg\" height=\"24px\"viewBox=\"0 0 24 24\"\n",
              "       width=\"24px\">\n",
              "    <path d=\"M0 0h24v24H0V0z\" fill=\"none\"/>\n",
              "    <path d=\"M18.56 5.44l.94 2.06.94-2.06 2.06-.94-2.06-.94-.94-2.06-.94 2.06-2.06.94zm-11 1L8.5 8.5l.94-2.06 2.06-.94-2.06-.94L8.5 2.5l-.94 2.06-2.06.94zm10 10l.94 2.06.94-2.06 2.06-.94-2.06-.94-.94-2.06-.94 2.06-2.06.94z\"/><path d=\"M17.41 7.96l-1.37-1.37c-.4-.4-.92-.59-1.43-.59-.52 0-1.04.2-1.43.59L10.3 9.45l-7.72 7.72c-.78.78-.78 2.05 0 2.83L4 21.41c.39.39.9.59 1.41.59.51 0 1.02-.2 1.41-.59l7.78-7.78 2.81-2.81c.8-.78.8-2.07 0-2.86zM5.41 20L4 18.59l7.72-7.72 1.47 1.35L5.41 20z\"/>\n",
              "  </svg>\n",
              "      </button>\n",
              "      \n",
              "  <style>\n",
              "    .colab-df-container {\n",
              "      display:flex;\n",
              "      flex-wrap:wrap;\n",
              "      gap: 12px;\n",
              "    }\n",
              "\n",
              "    .colab-df-convert {\n",
              "      background-color: #E8F0FE;\n",
              "      border: none;\n",
              "      border-radius: 50%;\n",
              "      cursor: pointer;\n",
              "      display: none;\n",
              "      fill: #1967D2;\n",
              "      height: 32px;\n",
              "      padding: 0 0 0 0;\n",
              "      width: 32px;\n",
              "    }\n",
              "\n",
              "    .colab-df-convert:hover {\n",
              "      background-color: #E2EBFA;\n",
              "      box-shadow: 0px 1px 2px rgba(60, 64, 67, 0.3), 0px 1px 3px 1px rgba(60, 64, 67, 0.15);\n",
              "      fill: #174EA6;\n",
              "    }\n",
              "\n",
              "    [theme=dark] .colab-df-convert {\n",
              "      background-color: #3B4455;\n",
              "      fill: #D2E3FC;\n",
              "    }\n",
              "\n",
              "    [theme=dark] .colab-df-convert:hover {\n",
              "      background-color: #434B5C;\n",
              "      box-shadow: 0px 1px 3px 1px rgba(0, 0, 0, 0.15);\n",
              "      filter: drop-shadow(0px 1px 2px rgba(0, 0, 0, 0.3));\n",
              "      fill: #FFFFFF;\n",
              "    }\n",
              "  </style>\n",
              "\n",
              "      <script>\n",
              "        const buttonEl =\n",
              "          document.querySelector('#df-e3a947dd-5fd7-44fb-a731-f0d84826881b button.colab-df-convert');\n",
              "        buttonEl.style.display =\n",
              "          google.colab.kernel.accessAllowed ? 'block' : 'none';\n",
              "\n",
              "        async function convertToInteractive(key) {\n",
              "          const element = document.querySelector('#df-e3a947dd-5fd7-44fb-a731-f0d84826881b');\n",
              "          const dataTable =\n",
              "            await google.colab.kernel.invokeFunction('convertToInteractive',\n",
              "                                                     [key], {});\n",
              "          if (!dataTable) return;\n",
              "\n",
              "          const docLinkHtml = 'Like what you see? Visit the ' +\n",
              "            '<a target=\"_blank\" href=https://colab.research.google.com/notebooks/data_table.ipynb>data table notebook</a>'\n",
              "            + ' to learn more about interactive tables.';\n",
              "          element.innerHTML = '';\n",
              "          dataTable['output_type'] = 'display_data';\n",
              "          await google.colab.output.renderOutput(dataTable, element);\n",
              "          const docLink = document.createElement('div');\n",
              "          docLink.innerHTML = docLinkHtml;\n",
              "          element.appendChild(docLink);\n",
              "        }\n",
              "      </script>\n",
              "    </div>\n",
              "  </div>\n",
              "  "
            ]
          },
          "metadata": {},
          "execution_count": 4
        }
      ]
    },
    {
      "cell_type": "code",
      "source": [
        "iris.to_csv('iris.csv', index=False, header=False)"
      ],
      "metadata": {
        "id": "hyPmzWlkNbvr"
      },
      "execution_count": 5,
      "outputs": []
    },
    {
      "cell_type": "markdown",
      "metadata": {
        "id": "oVejInuPakz5"
      },
      "source": [
        "## 3\\. AWS Athena"
      ]
    },
    {
      "cell_type": "markdown",
      "metadata": {
        "id": "CZbuPphXakz7"
      },
      "source": [
        "Replique as atividades do item 4.3 em sua conta."
      ]
    },
    {
      "cell_type": "markdown",
      "source": [
        "> **Criando a tabela na AWS:**"
      ],
      "metadata": {
        "id": "e3jLcmzdOsYH"
      }
    },
    {
      "cell_type": "code",
      "source": [
        "CREATE EXTERNAL TABLE iris (\n",
        "sepal_length double,\n",
        "sepal_width double,\n",
        "petal_length double,\n",
        "petal_width double,\n",
        "specie string\n",
        ")\n",
        "ROW FORMAT SERDE 'org.apache.hadoop.hive.serde2.OpenCSVSerde'\n",
        "WITH SERDEPROPERTIES ('separatorChar'=',')\n",
        "LOCATION 's3://ebac-modulo-38/'"
      ],
      "metadata": {
        "id": "ykXL5pQZPDAL"
      },
      "execution_count": null,
      "outputs": []
    },
    {
      "cell_type": "markdown",
      "source": [
        "> **Consultas SQL:**"
      ],
      "metadata": {
        "id": "VhJHcqxHPKfj"
      }
    },
    {
      "cell_type": "markdown",
      "source": [
        "**Query1**:"
      ],
      "metadata": {
        "id": "A4Gqb-P3RFR4"
      }
    },
    {
      "cell_type": "code",
      "source": [
        "#Número de linhas:\n",
        "SELECT COUNT (*) FROM iris"
      ],
      "metadata": {
        "id": "DsG_QEzaPNGT"
      },
      "execution_count": null,
      "outputs": []
    },
    {
      "cell_type": "markdown",
      "source": [
        "![q1.PNG](data:image/png;base64,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)"
      ],
      "metadata": {
        "id": "3RDlx9k7VI1y"
      }
    },
    {
      "cell_type": "markdown",
      "source": [
        "**Query2:**"
      ],
      "metadata": {
        "id": "IZZZgsJDSWKC"
      }
    },
    {
      "cell_type": "code",
      "source": [
        "#Checando as primeiras linhas do dataset:\n",
        "SELECT * FROM iris\n",
        "LIMIT 5;"
      ],
      "metadata": {
        "id": "lcyhNE6OSYh3"
      },
      "execution_count": null,
      "outputs": []
    },
    {
      "cell_type": "markdown",
      "source": [
        "![q2.PNG](data:image/png;base64,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)"
      ],
      "metadata": {
        "id": "S5dLOaX2VPLc"
      }
    },
    {
      "cell_type": "markdown",
      "source": [
        "**Query3:**"
      ],
      "metadata": {
        "id": "n986qFyNSd3L"
      }
    },
    {
      "cell_type": "code",
      "source": [
        "#Verificando as médias das colunas\n",
        "SELECT\n",
        "specie,\n",
        "round(avg(sepal_length), 4) as avg_sepal_length,\n",
        "round(avg(sepal_width), 4) as avg_sepal_width,\n",
        "round(avg(petal_length), 4) as avg_petal_length,\n",
        "round(avg(petal_width), 4) as avg_petal_width\n",
        "FROM iris\n",
        "GROUP BY specie;"
      ],
      "metadata": {
        "id": "yZGRyR1JSgwT"
      },
      "execution_count": null,
      "outputs": []
    },
    {
      "cell_type": "markdown",
      "source": [
        "![q3.PNG](data:image/png;base64,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)"
      ],
      "metadata": {
        "id": "rOdy3diEVQ2y"
      }
    }
  ]
}