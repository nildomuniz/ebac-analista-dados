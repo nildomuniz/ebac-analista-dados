{
  "nbformat": 4,
  "nbformat_minor": 0,
  "metadata": {
    "colab": {
      "provenance": []
    },
    "kernelspec": {
      "name": "python3",
      "display_name": "Python 3"
    }
  },
  "cells": [
    {
      "cell_type": "markdown",
      "metadata": {
        "id": "KJqp9AANOCtf"
      },
      "source": [
        "<img src=\"https://raw.githubusercontent.com/andre-marcos-perez/ebac-course-utils/main/media/logo/newebac_logo_black_half.png\" alt=\"ebac-logo\">\n",
        "\n",
        "---\n",
        "\n",
        "# **Módulo** | Análise de Dados: Data Wrangling II\n",
        "Caderno de **Exercícios**<br> \n",
        "Professor [André Perez](https://www.linkedin.com/in/andremarcosperez/)\n",
        "\n",
        "---"
      ]
    },
    {
      "cell_type": "markdown",
      "metadata": {
        "id": "d9jDtUbDOE1-"
      },
      "source": [
        "# **Tópicos**\n",
        "\n",
        "<ol type=\"1\">\n",
        "  <li>Agregação e Ordenação;</li>\n",
        "  <li>Combinação;</li>\n",
        "  <li>Técnicas Avançadas.</li>\n",
        "</ol>"
      ]
    },
    {
      "cell_type": "markdown",
      "metadata": {
        "id": "SmoHgt-lwkpD"
      },
      "source": [
        "---"
      ]
    },
    {
      "cell_type": "markdown",
      "metadata": {
        "id": "GABI6OW8OfQ2"
      },
      "source": [
        "# **Exercícios**"
      ]
    },
    {
      "cell_type": "markdown",
      "metadata": {
        "id": "45DbYPgFhuR7"
      },
      "source": [
        "Neste exercícios, vamos trabalhar com dados geográficos, demográficos e econômicos do Brasil. Vamos manipular e combinar dados de duas frentes distintas para poder responder perguntas de negócios."
      ]
    },
    {
      "cell_type": "markdown",
      "metadata": {
        "id": "GWgNoJN8DHyY"
      },
      "source": [
        "## 1\\. Data Wrangling"
      ]
    },
    {
      "cell_type": "markdown",
      "metadata": {
        "id": "E30KnCdKRdYl"
      },
      "source": [
        "### **1.1. Estados** "
      ]
    },
    {
      "cell_type": "markdown",
      "metadata": {
        "id": "w2q1apyNYHbu"
      },
      "source": [
        "O arquivo `estados-bruto.xml` contém informações sobre estados (nome, sigla e região). **Carregue-o na máquina virtual do Google Colab**. Um arquivo do tipo XML é similar a um arquivo do tipo HTML, exemplo do estado do Acre:"
      ]
    },
    {
      "cell_type": "markdown",
      "metadata": {
        "id": "GzjE2aEyYW5A"
      },
      "source": [
        "```xml\n",
        "<ESTADO>\n",
        "  <ID>1</ID>\n",
        "  <NOME>ACRE</NOME>\n",
        "  <IDCAPITAL>16</IDCAPITAL>\n",
        "  <SIGLA>AC</SIGLA>\n",
        "  <REGIAO>NORTE</REGIAO>\n",
        "</ESTADO>\n",
        "```"
      ]
    },
    {
      "cell_type": "markdown",
      "metadata": {
        "id": "7Mtk7Dd9UHqg"
      },
      "source": [
        "Utilize o pacote Python `beautifulsoup4` para extrair os dados do arquivo `estados-bruto.xml` providenciado. Salve os dados extraidos no arquivo `estados-limpo.csv` separado por `;`. Exemplo das três primeiras linhas mais o cabeçalho:\n",
        "\n",
        "```\n",
        "estado;sigla;regiao\n",
        "ACRE;AC;NORTE\n",
        "ALAGOAS;AL;NORDESTE\n",
        "AMAPA;AP;NORTE\n",
        "```\n",
        "\n",
        "**Dica**: Utilize o parser de xml chamado `lxml` do `beautifulsoup4`."
      ]
    },
    {
      "cell_type": "code",
      "metadata": {
        "id": "kz0ZyYI0Sg6P"
      },
      "source": [
        "# ler o arquivo estados-bruto.xml, utilize o xml parser chamado lxml\n",
        "from bs4 import BeautifulSoup\n",
        "\n",
        "NOME_ARQUIVO_FONTE = 'estados_bruto.xml'\n",
        "\n",
        "with open(NOME_ARQUIVO_FONTE) as xml:\n",
        "  fonte = BeautifulSoup(xml, \"lxml\")"
      ],
      "execution_count": null,
      "outputs": []
    },
    {
      "cell_type": "code",
      "metadata": {
        "id": "rB0u2NjEXhDo"
      },
      "source": [
        "# visualize os resultados\n",
        "fonte"
      ],
      "execution_count": null,
      "outputs": []
    },
    {
      "cell_type": "markdown",
      "source": [
        "\n",
        "<?xml version=\"1.0\" encoding=\"utf-8\" ?><html><body><estados>\n",
        "<estado>\n",
        "<id>1</id>\n",
        "<nome>ACRE</nome>\n",
        "<idcapital>16</idcapital>\n",
        "<sigla>AC</sigla>\n",
        "<regiao>NORTE</regiao>\n",
        "</estado>\n",
        "<estado>\n",
        "<id>2</id>\n",
        "<nome>ALAGOAS</nome>\n",
        "<idcapital>68</idcapital>\n",
        "<sigla>AL</sigla>\n",
        "<regiao>NORDESTE</regiao>\n",
        "</estado>\n",
        "<estado>\n",
        "<id>3</id>\n",
        "<nome>AMAPA</nome>\n",
        "<idcapital>131</idcapital>\n",
        "<sigla>AP</sigla>\n",
        "<regiao>NORTE</regiao>\n",
        "</estado>\n",
        "<estado>\n",
        "<id>4</id>\n",
        "<nome>AMAZONAS</nome>\n",
        "<idcapital>178</idcapital>\n",
        "<sigla>AM</sigla>\n",
        "<regiao>NORTE</regiao>\n",
        "</estado>\n",
        "<estado>\n",
        "<id>5</id>\n",
        "<nome>BAHIA</nome>\n",
        "<idcapital>536</idcapital>\n",
        "<sigla>BA</sigla>\n",
        "<regiao>NORDESTE</regiao>\n",
        "</estado>\n",
        "<estado>\n",
        "<id>6</id>\n",
        "<nome>CEARA</nome>\n",
        "<idcapital>676</idcapital>\n",
        "<sigla>CE</sigla>\n",
        "<regiao>NORDESTE</regiao>\n",
        "</estado>\n",
        "<estado>\n",
        "<id>7</id>\n",
        "<nome>DISTRITO FEDERAL</nome>\n",
        "<idcapital>916</idcapital>\n",
        "<sigla>DF</sigla>\n",
        "<regiao>CENTRO-OESTE</regiao>\n",
        "</estado>\n",
        "<estado>\n",
        "<id>8</id>\n",
        "<nome>ESPIRITO SANTO</nome>\n",
        "<idcapital>879</idcapital>\n",
        "<sigla>ES</sigla>\n",
        "<regiao>SUDESTE</regiao>\n",
        "</estado>\n",
        "<estado>\n",
        "<id>9</id>\n",
        "<nome>GOIAS</nome>\n",
        "<idcapital>973</idcapital>\n",
        "<sigla>GO</sigla>\n",
        "<regiao>CENTRO-OESTE</regiao>\n",
        "</estado>\n",
        "<estado>\n",
        "<id>10</id>\n",
        "<nome>MARANHAO</nome>\n",
        "<idcapital>1309</idcapital>\n",
        "<sigla>MA</sigla>\n",
        "<regiao>NORDESTE</regiao>\n",
        "</estado>\n",
        "<estado>\n",
        "<id>11</id>\n",
        "<nome>MATO GROSSO</nome>\n",
        "<idcapital>1374</idcapital>\n",
        "<sigla>MT</sigla>\n",
        "<regiao>CENTRO-OESTE</regiao>\n",
        "</estado>\n",
        "<estado>\n",
        "<id>12</id>\n",
        "<nome>MATO GROSSO DO SUL</nome>\n",
        "<idcapital>1485</idcapital>\n",
        "<sigla>MS</sigla>\n",
        "<regiao>CENTRO-OESTE</regiao>\n",
        "</estado>\n",
        "<estado>\n",
        "<id>13</id>\n",
        "<nome>PARA</nome>\n",
        "<idcapital>1561</idcapital>\n",
        "<sigla>PA</sigla>\n",
        "<regiao>NORTE</regiao>\n",
        "</estado>\n",
        "<estado>\n",
        "<id>14</id>\n",
        "<nome>PARAIBA</nome>\n",
        "<idcapital>1779</idcapital>\n",
        "<sigla>PB</sigla>\n",
        "<regiao>NORDESTE</regiao>\n",
        "</estado>\n",
        "<estado>\n",
        "<id>15</id>\n",
        "<nome>PARANA</nome>\n",
        "<idcapital>2002</idcapital>\n",
        "<sigla>PR</sigla>\n",
        "<regiao>SUL</regiao>\n",
        "</estado>\n",
        "<estado>\n",
        "<id>16</id>\n",
        "<nome>PERNAMBUCO</nome>\n",
        "<idcapital>2439</idcapital>\n",
        "<sigla>PE</sigla>\n",
        "<regiao>NORDESTE</regiao>\n",
        "</estado>\n",
        "<estado>\n",
        "<id>17</id>\n",
        "<nome>PIAUI</nome>\n",
        "<idcapital>2704</idcapital>\n",
        "<sigla>PI</sigla>\n",
        "<regiao>NORDESTE</regiao>\n",
        "</estado>\n",
        "<estado>\n",
        "<id>18</id>\n",
        "<nome>RIO DE JANEIRO</nome>\n",
        "<idcapital>2779</idcapital>\n",
        "<sigla>RJ</sigla>\n",
        "<regiao>SUDESTE</regiao>\n",
        "</estado>\n",
        "<estado>\n",
        "<id>19</id>\n",
        "<nome>RIO GRANDE DO NORTE</nome>\n",
        "<idcapital>2890</idcapital>\n",
        "<sigla>RN</sigla>\n",
        "<regiao>NORDESTE</regiao>\n",
        "</estado>\n",
        "<estado>\n",
        "<id>20</id>\n",
        "<nome>RIO GRANDE DO SUL</nome>\n",
        "<idcapital>3273</idcapital>\n",
        "<sigla>RS</sigla>\n",
        "<regiao>SUL</regiao>\n",
        "</estado>\n",
        "<estado>\n",
        "<id>21</id>\n",
        "<nome>RONDONIA</nome>\n",
        "<idcapital>3473</idcapital>\n",
        "<sigla>RO</sigla>\n",
        "<regiao>NORTE</regiao>\n",
        "</estado>\n",
        "<estado>\n",
        "<id>22</id>\n",
        "<nome>RORAIMA</nome>\n",
        "<idcapital>3491</idcapital>\n",
        "<sigla>RR</sigla>\n",
        "<regiao>NORTE</regiao>\n",
        "</estado>\n",
        "<estado>\n",
        "<id>23</id>\n",
        "<nome>SANTA CATARINA</nome>\n",
        "<idcapital>3591</idcapital>\n",
        "<sigla>SC</sigla>\n",
        "<regiao>SUL</regiao>\n",
        "</estado>\n",
        "<estado>\n",
        "<id>24</id>\n",
        "<nome>SAO PAULO</nome>\n",
        "<idcapital>4361</idcapital>\n",
        "<sigla>SP</sigla>\n",
        "<regiao>SUDESTE</regiao>\n",
        "</estado>\n",
        "<estado>\n",
        "<id>25</id>\n",
        "<nome>SERGIPE</nome>\n",
        "<idcapital>4444</idcapital>\n",
        "<sigla>SE</sigla>\n",
        "<regiao>NORDESTE</regiao>\n",
        "</estado>\n",
        "<estado>\n",
        "<id>26</id>\n",
        "<nome>TOCANTINS</nome>\n",
        "<idcapital>4606</idcapital>\n",
        "<sigla>TO</sigla>\n",
        "<regiao>NORTE</regiao>\n",
        "</estado>\n",
        "<estado>\n",
        "<id>27</id>\n",
        "<nome>MINAS GERAIS</nome>\n",
        "<idcapital>4790</idcapital>\n",
        "<sigla>MG</sigla>\n",
        "<regiao>SUDESTE</regiao>\n",
        "</estado>\n",
        "</estados></body></html>"
      ],
      "metadata": {
        "id": "Ah2sjmjyDuWx"
      }
    },
    {
      "cell_type": "code",
      "metadata": {
        "id": "6mos3LTVXrzV"
      },
      "source": [
        "# manipule os dados\n",
        "estados = fonte.find_all(\"nome\")\n",
        "estados = [estado.string for estado in estados]\n",
        "\n",
        "siglas = fonte.find_all(\"sigla\")\n",
        "siglas = [sigla.string for sigla in siglas]\n",
        "\n",
        "regioes = fonte.find_all(\"regiao\")\n",
        "regioes = [regiao.string for regiao in regioes]\n",
        "\n",
        "print(estados)\n",
        "print(siglas)\n",
        "print(regioes)"
      ],
      "execution_count": null,
      "outputs": []
    },
    {
      "cell_type": "code",
      "metadata": {
        "id": "9yCma_LASxFg"
      },
      "source": [
        "# escrever o conteudo extraido no arquivo estados-limpo.csv separados por ;\n",
        "import pandas as pd\n",
        "\n",
        "NOME_ARQUIVO_DESTINO = 'estados-limpo.csv'\n",
        "\n",
        "# criando um dicionário e convertendo em dataframe\n",
        "estados_br = pd.DataFrame({\n",
        "    \"estado\": estados,\n",
        "    \"sigla\": siglas,\n",
        "    \"regiao\": regioes,\n",
        "})\n",
        "\n",
        "estados_br.to_csv(NOME_ARQUIVO_DESTINO, index=False, sep=\";\")"
      ],
      "execution_count": null,
      "outputs": []
    },
    {
      "cell_type": "markdown",
      "metadata": {
        "id": "Fq0xqYYSYq92"
      },
      "source": [
        "### **1.2. Cidades** "
      ]
    },
    {
      "cell_type": "markdown",
      "metadata": {
        "id": "eWRbjhOQYq93"
      },
      "source": [
        "O arquivo `cidades-bruto.csv` contém informações demográficas e socioeconomicas das cidades do Brasil. **Carregue-o na máquina virtual do Google Colab**. Utilize o pacote Python `pandas` para extrair os dados do arquivo `cidades-bruto.xml` providenciado. Seguindo as seguintes especificações:"
      ]
    },
    {
      "cell_type": "markdown",
      "metadata": {
        "id": "76zW8sMsbhEu"
      },
      "source": [
        "1. Apenas dados do censo de 2010;\n",
        "1. Apenas as colunas UF, Nome, PIB, Pop_est_2009 e PIB_percapita."
      ]
    },
    {
      "cell_type": "markdown",
      "metadata": {
        "id": "auiIxlw-blp8"
      },
      "source": [
        "Salve os dados extraidos no arquivo `cidades-limpo.csv` separado por `;`. Exemplo das três primeiras linhas mais o cabeçalho:\n",
        "\n",
        "```\n",
        "estado;cidade;populacao;pib;pib_percapita\n",
        "BAHIA;TREMEDAL;18433;57883.9921875;3140.23999023\n",
        "RIO GRANDE DO SUL;TURUÇU;4000;45723875;11430.96972656\n",
        "ESPIRITO SANTO;VITÓRIA;320156;19782628;61790.58984375\n",
        "```"
      ]
    },
    {
      "cell_type": "code",
      "metadata": {
        "id": "nBmWOkvzYq94"
      },
      "source": [
        "# ler o arquivo cidades-bruto.csv\n",
        "import pandas as pd\n",
        "\n",
        "NOME_ARQUIVO_FONTE = 'cidades_bruto.csv'\n",
        "\n",
        "cidades_br = pd.read_csv(NOME_ARQUIVO_FONTE)"
      ],
      "execution_count": null,
      "outputs": []
    },
    {
      "cell_type": "code",
      "source": [
        "# Extraindo as colunas de interesse correspondente ao Censo de 2010\n",
        "cidades_br = cidades_br.query('Censo == 2010')[['UF', 'nome', 'Pop_est_2009', 'PIB', 'PIB_percapita']]"
      ],
      "metadata": {
        "id": "BI5QrofcEO0Z"
      },
      "execution_count": null,
      "outputs": []
    },
    {
      "cell_type": "code",
      "source": [
        "cidades_br = cidades_br.rename(\n",
        "    columns={\n",
        "      \"UF\": \"estado\", \n",
        "      \"nome\": \"cidade\", \n",
        "      \"Pop_est_2009\": \"populacao\", \n",
        "      \"PIB\": \"pib\", \n",
        "      \"PIB_percapita\": \"pib_percapita\"\n",
        "      }\n",
        ")"
      ],
      "metadata": {
        "id": "hlivnpbNEQ9w"
      },
      "execution_count": null,
      "outputs": []
    },
    {
      "cell_type": "code",
      "metadata": {
        "id": "2NKpI4h9Yq95"
      },
      "source": [
        "# visualize os resultados\n",
        "cidades_br.head(3)"
      ],
      "execution_count": null,
      "outputs": []
    },
    {
      "cell_type": "code",
      "metadata": {
        "id": "BRVLwHxHYq96"
      },
      "source": [
        "# manipule os dados\n",
        "cidades_br.shape"
      ],
      "execution_count": null,
      "outputs": []
    },
    {
      "cell_type": "code",
      "source": [
        "cidades_br.info()"
      ],
      "metadata": {
        "id": "FDyBgj7kEYao"
      },
      "execution_count": null,
      "outputs": []
    },
    {
      "cell_type": "code",
      "source": [
        "cidades_br.describe().T"
      ],
      "metadata": {
        "id": "BuMbN3HyEbEH"
      },
      "execution_count": null,
      "outputs": []
    },
    {
      "cell_type": "code",
      "source": [
        "# Etapa de remoção de acentuação para facilitar a combinação dos dataframes no próximo exercício:\n",
        "cols = cidades_br.select_dtypes(include=[object]).columns\n",
        "cidades_br[cols] = cidades_br[cols].apply(lambda x: x.str.normalize('NFKD').str.encode('ascii', errors='ignore').str.decode('utf-8'))"
      ],
      "metadata": {
        "id": "kVlINbqIEfFR"
      },
      "execution_count": null,
      "outputs": []
    },
    {
      "cell_type": "code",
      "metadata": {
        "id": "GcAWBfwhYq96"
      },
      "source": [
        "# escrever o conteudo extraido no arquivo cidades-limpo.csv separados por ;\n",
        "\n",
        "NOME_ARQUIVO_DESTINO = 'cidades-limpo.csv'\n",
        "\n",
        "cidades_br.to_csv(NOME_ARQUIVO_DESTINO, index=False)"
      ],
      "execution_count": null,
      "outputs": []
    },
    {
      "cell_type": "markdown",
      "metadata": {
        "id": "EBzoHVD8b_c7"
      },
      "source": [
        "### **1.3. Brasil** "
      ]
    },
    {
      "cell_type": "markdown",
      "metadata": {
        "id": "Ft6l5bDwb_c7"
      },
      "source": [
        "Utilize o pacote Python `pandas` para combinar os dados do arquivo `estados-bruto.csv` com os dados do arquivo `cidades-bruto.csv` em um único dataframe. Escolha a coluna e o método de combinação de tal forma que **não haja perda de dados** no processo (não produzirá valores nulos `NaN`). Salve os dados do dataframe no arquivo `brasil.csv`"
      ]
    },
    {
      "cell_type": "code",
      "metadata": {
        "id": "Vz3J7G4-dBXa"
      },
      "source": [
        "# solução do exercício 1.3\n",
        "brasil = pd.merge(left=cidades_br, right=estados_br, on='estado', how='inner')"
      ],
      "execution_count": null,
      "outputs": []
    },
    {
      "cell_type": "code",
      "source": [
        "brasil.head()"
      ],
      "metadata": {
        "id": "3Vh9gwyPEn0y"
      },
      "execution_count": null,
      "outputs": []
    },
    {
      "cell_type": "code",
      "source": [
        "\n",
        "brasil.info()"
      ],
      "metadata": {
        "id": "jCxlTR2rEtcN"
      },
      "execution_count": null,
      "outputs": []
    },
    {
      "cell_type": "code",
      "source": [
        "NOME_ARQUIVO_DESTINO = 'brasil.csv'\n",
        "\n",
        "brasil.to_csv(NOME_ARQUIVO_DESTINO, index=False)"
      ],
      "metadata": {
        "id": "wnJsFobCEvxF"
      },
      "execution_count": null,
      "outputs": []
    },
    {
      "cell_type": "markdown",
      "metadata": {
        "id": "waxn4B2UDHyl"
      },
      "source": [
        "---"
      ]
    },
    {
      "cell_type": "markdown",
      "metadata": {
        "id": "finLQoyyGVmk"
      },
      "source": [
        "## 2\\. Data Analytics"
      ]
    },
    {
      "cell_type": "markdown",
      "metadata": {
        "id": "Ab0GW19Ed1ig"
      },
      "source": [
        "### **2.1. DataFrame** "
      ]
    },
    {
      "cell_type": "markdown",
      "metadata": {
        "id": "l8jJYjeBdijt"
      },
      "source": [
        "Utilize o pacote Python `pandas` para carregar o arquivo `brasil.csv` no dataframe `brasil_df`."
      ]
    },
    {
      "cell_type": "code",
      "metadata": {
        "id": "8kFQLlqud4QL"
      },
      "source": [
        "# solução do exercício 2.1\n",
        "brasil_df = pd.read_csv('brasil.csv', encoding='utf-8')\n",
        "\n",
        "brasil_df.head()"
      ],
      "execution_count": null,
      "outputs": []
    },
    {
      "cell_type": "markdown",
      "metadata": {
        "id": "ZFWvK8FXHuex"
      },
      "source": [
        "### **2.2. Analise** "
      ]
    },
    {
      "cell_type": "markdown",
      "metadata": {
        "id": "EGyz0R1dd62D"
      },
      "source": [
        "Utilize o dataframe `brasil_df` para responder as seguintes perguntas de negócio:"
      ]
    },
    {
      "cell_type": "markdown",
      "metadata": {
        "id": "lGnYVp7IeFBD"
      },
      "source": [
        " - Quais são as 10 cidades mais populosas do Brasil?"
      ]
    },
    {
      "cell_type": "code",
      "metadata": {
        "id": "KQKcD-VkeQYf"
      },
      "source": [
        "top_10_cidades_populosas = brasil_df[['cidade', 'populacao', 'sigla', 'regiao']].\\\n",
        "    sort_values('populacao', ascending=False)\n",
        "\n",
        "# checagem:\n",
        "top_10_cidades_populosas.head(10)"
      ],
      "execution_count": null,
      "outputs": []
    },
    {
      "cell_type": "markdown",
      "metadata": {
        "id": "l93St6uleWTp"
      },
      "source": [
        " - Quais são as 5 cidades com a menor PIB per capita da região nordeste?"
      ]
    },
    {
      "cell_type": "code",
      "metadata": {
        "id": "DS5akh2zeWTq"
      },
      "source": [
        "regiao_nordeste = brasil_df.query('regiao == \"NORDESTE\" ')\n",
        "menores_pib_nordeste = regiao_nordeste[['cidade', 'pib_percapita', 'sigla']].\\\n",
        "    sort_values(by=['pib_percapita'], ascending=True)\n",
        "\n",
        "# checagem:\n",
        "menores_pib_nordeste.head(5)"
      ],
      "execution_count": null,
      "outputs": []
    },
    {
      "cell_type": "markdown",
      "metadata": {
        "id": "GqwffgUmedmb"
      },
      "source": [
        " - Quais são as 15 cidades com maior PIB do do estado de São Paulo?"
      ]
    },
    {
      "cell_type": "code",
      "metadata": {
        "id": "tFKEn1gLedmc"
      },
      "source": [
        "brasil_df.estado.drop_duplicates()"
      ],
      "execution_count": null,
      "outputs": []
    },
    {
      "cell_type": "code",
      "source": [
        "estado_SP = brasil_df.query('sigla == \"SP\" ')\n",
        "\n",
        "maiores_pib_SP = estado_SP[['cidade', 'estado', 'pib']].sort_values(\n",
        "    'pib', ascending=False\n",
        ")\n",
        "\n",
        "# checagem:\n",
        "maiores_pib_SP.head(15)"
      ],
      "metadata": {
        "id": "rXjGMxIvE_p-"
      },
      "execution_count": null,
      "outputs": []
    },
    {
      "cell_type": "markdown",
      "metadata": {
        "id": "Wg_la1wOewoB"
      },
      "source": [
        " - Qual é o PIB do estado de Santa Catarina?"
      ]
    },
    {
      "cell_type": "code",
      "metadata": {
        "id": "LwGqow5_ewoB"
      },
      "source": [
        "estado_SC = brasil_df.query('sigla == \"SC\" ')\n",
        "PIB_SC = estado_SC['pib'].mean()\n",
        "\n",
        "# checagem:\n",
        "print(f'PIB de SC: {PIB_SC}')"
      ],
      "execution_count": null,
      "outputs": []
    },
    {
      "cell_type": "markdown",
      "metadata": {
        "id": "Yaw2gDukfApr"
      },
      "source": [
        " - Qual é o população da região sul?"
      ]
    },
    {
      "cell_type": "code",
      "metadata": {
        "id": "enEkNjFQfAps"
      },
      "source": [
        "regiao_sul = brasil_df.query('regiao == \"SUL\"')\n",
        "populacao_regiao_sul = regiao_sul['populacao'].sum()\n",
        "\n",
        "# checagem:\n",
        "print(f'População da região Sul: {populacao_regiao_sul} pessoas')"
      ],
      "execution_count": null,
      "outputs": []
    },
    {
      "cell_type": "markdown",
      "metadata": {
        "id": "9qOaKRS9fFu8"
      },
      "source": [
        " - Qual é o PIB per capito médio das cidades do Mato Grosso do Sul?"
      ]
    },
    {
      "cell_type": "code",
      "metadata": {
        "id": "gX8DVSfFfFu9"
      },
      "source": [
        "cidades_MS = brasil_df.query('sigla == \"MS\"')\n",
        "\n",
        "pib_percapita_medio_cidades_MS = cidades_MS['pib_percapita'].mean()\n",
        "\n",
        "# checagem:\n",
        "print(f'PIB per capita médio das cidades do Mato Grosso do Sul: {pib_percapita_medio_cidades_MS}')"
      ],
      "execution_count": null,
      "outputs": []
    },
    {
      "cell_type": "markdown",
      "metadata": {
        "id": "lvf-VqaffS2D"
      },
      "source": [
        " - Qual é a população do Brasil?"
      ]
    },
    {
      "cell_type": "code",
      "metadata": {
        "id": "_nBsY6EcfS2E"
      },
      "source": [
        "populacao_BR = brasil_df['populacao'].sum()\n",
        "\n",
        "# checagem:\n",
        "print(f'População do Brasil: {populacao_BR} pessoas')"
      ],
      "execution_count": null,
      "outputs": []
    },
    {
      "cell_type": "markdown",
      "metadata": {
        "id": "hnTSARXpipkP"
      },
      "source": [
        "### **2.3. Visualização** "
      ]
    },
    {
      "cell_type": "markdown",
      "metadata": {
        "id": "7coMkY8xixFO"
      },
      "source": [
        "Utilize o dataframe `brasil_df` para gerar as seguintes visualizações."
      ]
    },
    {
      "cell_type": "markdown",
      "metadata": {
        "id": "SgvPvh4Vjctx"
      },
      "source": [
        " - Gere um gráfico de barras com as 10 cidades menos populosas do Brasil."
      ]
    },
    {
      "cell_type": "code",
      "metadata": {
        "id": "V8eM0uEUjcty"
      },
      "source": [
        "import matplotlib.pyplot as plt\n",
        "import seaborn as sns\n",
        "\n",
        "cidades_menos_populosas_BR = brasil_df[['cidade', 'populacao']].\\\n",
        "    sort_values('populacao', ascending=True).head(10)\n",
        "\n",
        "with sns.axes_style('ticks'):\n",
        "  fig, ax = plt.subplots(figsize=(10,4.5))\n",
        "  sns.barplot(\n",
        "      data = cidades_menos_populosas_BR,\n",
        "      x = 'populacao',\n",
        "      y = 'cidade',\n",
        "      palette = 'Blues',\n",
        "      lw=0\n",
        "  )\n",
        "  plt.grid(alpha=0.2)\n",
        "  plt.title('Top 10 cidades menos populosas do Brasil', weight='bold', size=12)\n",
        "  plt.xlabel('População', size=10)\n",
        "  plt.ylabel('')"
      ],
      "execution_count": null,
      "outputs": []
    },
    {
      "cell_type": "markdown",
      "metadata": {
        "id": "gsa3SrTjjrGV"
      },
      "source": [
        " - Gere um gráfico de pizza com a proporção da população do Brasil por região."
      ]
    },
    {
      "cell_type": "code",
      "metadata": {
        "id": "1dvqIAEHjrGV"
      },
      "source": [
        "populacao_por_regiao = brasil_df[['regiao', 'populacao']].groupby('regiao').sum()\\\n",
        "    .sort_values('populacao', ascending=True)\n",
        "\n",
        "palette_color = sns.color_palette('Purples')\n",
        "explode = [0.01, 0.01, 0.01, 0.01, 0.01]\n",
        "\n",
        "populacao_por_regiao.plot.pie(y='populacao',\n",
        "                              title=\"Proporção da População do Brasil por Região\",\n",
        "                              figsize=(16,8),\n",
        "                              explode = explode,\n",
        "                              autopct='%1.1f%%',\n",
        "                              colors=palette_color\n",
        ").legend(bbox_to_anchor=(0.9, 1));"
      ],
      "execution_count": null,
      "outputs": []
    }
  ]
}